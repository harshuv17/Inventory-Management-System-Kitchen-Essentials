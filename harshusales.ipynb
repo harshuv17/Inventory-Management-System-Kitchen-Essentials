{
 "cells": [
  {
   "cell_type": "code",
   "execution_count": null,
   "id": "3e81c2b2",
   "metadata": {},
   "outputs": [],
   "source": [
    "import json\n",
    "fd=open(\"jsonkitchen\",\"r\")\n",
    "r=fd.read()\n",
    "Essentials=json.loads(r)\n",
    "print(Essentials)\n",
    "fd.close()\n",
    "i=int(input(\"Enter the quantity of items to be purchased:\"))\n",
    "bill=0.0;\n",
    "ordernum=0;\n",
    "for t in range(i):\n",
    "    ordernum=int(input(\"Enter your product number to be purchased:\"))\n",
    "    order[t]=menu[ordernum]\n",
    "    bill+=menu[ordernum][\"price\"]\n",
    "end    \n",
    "noprod=int(input(\"Enter the quantity of items to be purchased:\"))\n",
    "sales={}\n",
    "bill=0.0;    \n",
    "while noprod!=0:\n",
    "    pid=input(\"enter the product ID you need to purchase\")\n",
    "    print(\"enter the quantity less than or equal to \",Essentials[pid][\"quantity\"])\n",
    "    quant=int(input(\"enter the quantity of the product\"))\n",
    "    bill=bill+inventory[pid][\"price\"]*quant\n",
    "Essentials[pid][\"quantity\"]= Essentials[pid][\"quantity\"]-quant\n",
    "sales[pid={\"name\": Essentials[pid][\"name\"],\"price\":Essentials[pid][price],\n",
    "           \"category\":inventory[pid][\"category\"],\"quantity\":quant}\n",
    "      noprod-=1\n",
    "      js=json.dumps(Essentials)\n",
    "      fd=open(\"jsonkitchen\",\"w\")\n",
    "      fd.write(js)\n",
    "      fd.close()\n",
    "      json1=json.dumps(sales)\n",
    "      fd=open(\"sales.json\",\"a\")\n",
    "      fd.write(json1)\n",
    "      fd.close()   \n",
    "print(order)\n",
    "jsonorder=json.dumps(order)\n",
    "print(jsonorder)\n",
    "print(\"Your Bill\",bill,\"**********Thank you Visit again************\")\n"
   ]
  }
 ],
 "metadata": {
  "kernelspec": {
   "display_name": "Python 3",
   "language": "python",
   "name": "python3"
  },
  "language_info": {
   "codemirror_mode": {
    "name": "ipython",
    "version": 3
   },
   "file_extension": ".py",
   "mimetype": "text/x-python",
   "name": "python",
   "nbconvert_exporter": "python",
   "pygments_lexer": "ipython3",
   "version": "3.8.8"
  }
 },
 "nbformat": 4,
 "nbformat_minor": 5
}
