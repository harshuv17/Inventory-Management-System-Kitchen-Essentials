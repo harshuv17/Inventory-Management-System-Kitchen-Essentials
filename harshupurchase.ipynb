{
 "cells": [
  {
   "cell_type": "code",
   "execution_count": null,
   "id": "faed7a8f",
   "metadata": {},
   "outputs": [],
   "source": [
    "import json\n",
    "fd=open(\"jsonkitchen\",\"r\")\n",
    "r=fd.read()\n",
    "fd.close()\n",
    "Essentials=json.loads(r)\n",
    "ProductID=int(input(\"Enter the product ID:\"))\n",
    "print(ProductID)\n",
    "\n",
    "if  ProductID > 32:\n",
    "      name=input(\"Enter the product name:\")\n",
    "      brand=input(\"Enter the product brand:\")\n",
    "      capacity=input(\"Enter the capacity of the product:\")\n",
    "      weight=input(\"Enter the weight of the product:\")\n",
    "      price=int(input(\"Enter the price of the product:\"))\n",
    "      warranty=input(\"Enter the warranty of the product: \")\n",
    "      quantity=int(input(\"Enter the quantity of the product:\"))\n",
    "      \n",
    "Essentials[ProductID]={'Product_name':name,'Brand':brand,'Capacity':capacity,'Weight':weight,\n",
    "'Price':price,'Warranty':warranty,'Quantity':quantity}\n",
    "\n",
    "else:\n",
    "      newproduct=int(input(\"Enter the quantity of the new product to the existing items:\"))\n",
    "      newid=str(ProductID)\n",
    "      Essentials[newid][\"quantity\"]=Essentials[newid][\"quantity\"]+newproduct\n",
    "        \n",
    "## to update the file\n",
    "import json\n",
    "jsonkit=json.dumps(Essentials)\n",
    "fd=open(\"jsonkitchen\",\"w\")\n",
    "fd.write(jsonkit)\n",
    "fd.close()\n",
    "\n"
   ]
  }
 ],
 "metadata": {
  "kernelspec": {
   "display_name": "Python 3",
   "language": "python",
   "name": "python3"
  },
  "language_info": {
   "codemirror_mode": {
    "name": "ipython",
    "version": 3
   },
   "file_extension": ".py",
   "mimetype": "text/x-python",
   "name": "python",
   "nbconvert_exporter": "python",
   "pygments_lexer": "ipython3",
   "version": "3.8.8"
  }
 },
 "nbformat": 4,
 "nbformat_minor": 5
}
